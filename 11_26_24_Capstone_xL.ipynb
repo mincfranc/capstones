{
  "nbformat": 4,
  "nbformat_minor": 0,
  "metadata": {
    "colab": {
      "provenance": [],
      "authorship_tag": "ABX9TyMwhgAd8K6w9FYUvTIWQeRk",
      "include_colab_link": true
    },
    "kernelspec": {
      "name": "python3",
      "display_name": "Python 3"
    },
    "language_info": {
      "name": "python"
    }
  },
  "cells": [
    {
      "cell_type": "markdown",
      "metadata": {
        "id": "view-in-github",
        "colab_type": "text"
      },
      "source": [
        "<a href=\"https://colab.research.google.com/github/mincfranc/capstones/blob/main/11_26_24_Capstone_xL.ipynb\" target=\"_parent\"><img src=\"https://colab.research.google.com/assets/colab-badge.svg\" alt=\"Open In Colab\"/></a>"
      ]
    },
    {
      "cell_type": "markdown",
      "source": [
        "11/26/24 Capstone Team Meeting\n",
        "\n",
        "Farnsworth Unit Data - 202102_FINAL\n",
        "file path=\n",
        "\"C:\\Users\\minef\\OneDrive\\Desktop\\Farnsworth Unit Data - 202102_FINAL.xlsx\""
      ],
      "metadata": {
        "id": "XpTpxR-fE5xw"
      }
    },
    {
      "cell_type": "code",
      "source": [
        "# Save excel workbook with multiple worksheets as a picklefile then import\n",
        "\n",
        "import pandas as pd\n",
        "import numpy as np\n",
        "import pickle\n",
        "import os"
      ],
      "metadata": {
        "collapsed": true,
        "id": "F9mx-pCTFtxM"
      },
      "execution_count": null,
      "outputs": []
    },
    {
      "cell_type": "code",
      "source": [
        "# File paths\n",
        "excel_file_path = 'Farnsworth Unit Data - 202102_FINAL.xlsx'\n",
        "pickle_file_path = 'co2_excel.pickle'"
      ],
      "metadata": {
        "id": "LfTKLsiBUyQz"
      },
      "execution_count": null,
      "outputs": []
    },
    {
      "cell_type": "code",
      "source": [
        "# Load all sheets into a dictionary of DataFrames\n",
        "excel_data = pd.read_excel(excel_file_path, sheet_name=None)"
      ],
      "metadata": {
        "id": "6_6mQYAmVbNg"
      },
      "execution_count": null,
      "outputs": []
    },
    {
      "cell_type": "code",
      "source": [
        "# Save data to pickle file\n",
        "pickle.dump(excel_data, open(pickle_file_path, 'wb'))\n",
        "\n",
        "# Reload data from pickle file\n",
        "loaded_data = pickle.load(open(pickle_file_path, 'rb'))"
      ],
      "metadata": {
        "id": "eBHBKrv5VmJn"
      },
      "execution_count": null,
      "outputs": []
    },
    {
      "cell_type": "code",
      "source": [
        "# Print sheet names\n",
        "for sheet_name in loaded_data.keys():\n",
        "    print(sheet_name)"
      ],
      "metadata": {
        "colab": {
          "base_uri": "https://localhost:8080/"
        },
        "id": "xNaRccEIWfjP",
        "outputId": "e4d1bba0-0b6e-4aa0-e32a-3a984cbc8132"
      },
      "execution_count": null,
      "outputs": [
        {
          "output_type": "stream",
          "name": "stdout",
          "text": [
            "SWP_Dashboard thru 2-28-2021\n",
            "Daily Prod_Inj & Pressures\n",
            "Monthly Prod_Inj\n",
            "Well Tests\n",
            "Downtimes\n",
            "Water Meters\n",
            "Gas Meters\n"
          ]
        }
      ]
    },
    {
      "cell_type": "code",
      "source": [
        "# # Print first few rows of each sheet\n",
        "# for sheet_name, df in loaded_data.items():\n",
        "#     print(f\"\\nData from sheet '{sheet_name}':\")\n",
        "#     print(df.head(1))"
      ],
      "metadata": {
        "id": "HJZ9oUZqVu0N"
      },
      "execution_count": null,
      "outputs": []
    },
    {
      "cell_type": "code",
      "source": [
        "# Analyze sheets and include null counts, data types, and total nulls\n",
        "for sheet_name, df in excel_data.items():\n",
        "    print(f\"\\nAnalyzing sheet: {sheet_name}\")\n",
        "    print(f\"Shape: {df.shape}\")\n",
        "\n",
        "    # Get null counts and data types\n",
        "    null_counts = df.isnull().sum()\n",
        "    dtypes = df.dtypes\n",
        "\n",
        "    # Combine null counts and data types into a DataFrame\n",
        "    null_dtypes_df = pd.DataFrame({'Null Counts': null_counts, 'Data Type': dtypes})\n",
        "\n",
        "    # Print combined DataFrame\n",
        "    # print(\"Null counts and data types per column:\")\n",
        "    print(null_dtypes_df)\n",
        "\n",
        "    # Calculate total nulls in each worksheet\n",
        "    total_nulls = null_counts.sum()\n",
        "    print(f\"Total Nulls in Worksheet: {total_nulls}\")\n",
        "\n",
        "    # Identify columns with datetime data types\n",
        "    datetime_columns = df.select_dtypes(include=['datetime']).columns\n",
        "    print(\"Datetime columns:\", list(datetime_columns))\n"
      ],
      "metadata": {
        "colab": {
          "base_uri": "https://localhost:8080/"
        },
        "id": "kT9_x2raXF0e",
        "outputId": "e7a5aa25-d7a0-4440-df37-4068892b856f"
      },
      "execution_count": null,
      "outputs": [
        {
          "output_type": "stream",
          "name": "stdout",
          "text": [
            "\n",
            "Analyzing sheet: SWP_Dashboard thru 2-28-2021\n",
            "Shape: (2528, 10)\n",
            "                         Null Counts       Data Type\n",
            "Date                               0  datetime64[ns]\n",
            "Oil Production (bbls)              0         float64\n",
            "Water Production (bbls)            0         float64\n",
            "Water Injection (bbls)             0         float64\n",
            "Arkalon CO2 (mcf)                 19         float64\n",
            "Borger CO2 (mcf)                1035         float64\n",
            "Recycle CO2 (mcf)                  0         float64\n",
            "Flare (mcf)                       19         float64\n",
            "External Sources (bbls)         1216         float64\n",
            "Total Injection (bbls)          1216         float64\n",
            "Total Nulls in Worksheet: 3505\n",
            "Datetime columns: ['Date']\n",
            "\n",
            "Analyzing sheet: Daily Prod_Inj & Pressures\n",
            "Shape: (95392, 24)\n",
            "                                 Null Counts       Data Type\n",
            "Unit Name                                  0          object\n",
            "API                                        0           int64\n",
            "District                                   0          object\n",
            "Field                                  20453          object\n",
            "Battery                                    0          object\n",
            "Date                                       0  datetime64[ns]\n",
            "Downtime                                   0         float64\n",
            "Operating Time                             0         float64\n",
            "Allocated HCLiq                        38340         float64\n",
            "Allocated Gas                          38340         float64\n",
            "Allocated Water                        38340         float64\n",
            "Injection Well - Gas                   57052         float64\n",
            "Injection Well - Water                 57052         float64\n",
            "Tubing Pressure                        58869         float64\n",
            "Casing Pressure                        58875         float64\n",
            "Flowline Pressure                      62166         float64\n",
            "Choke Size                             64081         float64\n",
            "Fluid Level Depth                      95131         float64\n",
            "Gas-Free Fluid Level Above Pump        95131         float64\n",
            "Fluid Level Above Pump                 95131         float64\n",
            "Bottomhole Pressure                    88022         float64\n",
            "Unnamed: 21                            94380         float64\n",
            "Unnamed: 22                            94380         float64\n",
            "Unnamed: 23                            95370          object\n",
            "Total Nulls in Worksheet: 1151113\n",
            "Datetime columns: ['Date']\n",
            "\n",
            "Analyzing sheet: Monthly Prod_Inj\n",
            "Shape: (3136, 13)\n",
            "                        Null Counts       Data Type\n",
            "Unit Name                         0          object\n",
            "API                               0           int64\n",
            "District                          0          object\n",
            "Field                             0          object\n",
            "Battery                           0          object\n",
            "Start Date                        0  datetime64[ns]\n",
            "Downtime                          0         float64\n",
            "Operating Time                    0         float64\n",
            "Allocated HCLiq                1260         float64\n",
            "Allocated Gas                  1260         float64\n",
            "Allocated Water                1260         float64\n",
            "Injection Well - Gas           1876         float64\n",
            "Injection Well - Water         1876         float64\n",
            "Total Nulls in Worksheet: 7532\n",
            "Datetime columns: ['Start Date']\n",
            "\n",
            "Analyzing sheet: Well Tests\n",
            "Shape: (780, 16)\n",
            "                               Null Counts       Data Type\n",
            "Unit Name                                0          object\n",
            "Type                                     0          object\n",
            "Effective Date                           0  datetime64[ns]\n",
            "Gas Volume Override                     17         float64\n",
            "Recovered Lift Gas                     707         float64\n",
            "Oil/Emulsion Volume Override            19         float64\n",
            "Water Volume Override                   17         float64\n",
            "Gas Oil Ratio                           36         float64\n",
            "Change in Oil/Emulsion Rate             84         float64\n",
            "% Change in Oil/Emulsion Rate           94         float64\n",
            "Change in Gas Rate                      84         float64\n",
            "% Change in Gas Rate                   129         float64\n",
            "Change in Water Rate                    84         float64\n",
            "% Change in Water Rate                 104         float64\n",
            "Change in GOR                          145         float64\n",
            "% Change in GOR                        145         float64\n",
            "Total Nulls in Worksheet: 1665\n",
            "Datetime columns: ['Effective Date']\n",
            "\n",
            "Analyzing sheet: Downtimes\n",
            "Shape: (690, 9)\n",
            "                        Null Counts       Data Type\n",
            "Unit Name                         0          object\n",
            "Type of Downtime Entry            0          object\n",
            "First Day                         0  datetime64[ns]\n",
            "Downtime on First Day            78         float64\n",
            "Downtime Code 1                  24          object\n",
            "Last Day                        108  datetime64[ns]\n",
            "Downtime on Last Day            679         float64\n",
            "Total Downtime                  148         float64\n",
            "Unnamed: 8                      670          object\n",
            "Total Nulls in Worksheet: 1707\n",
            "Datetime columns: ['First Day', 'Last Day']\n",
            "\n",
            "Analyzing sheet: Water Meters\n",
            "Shape: (9130, 4)\n",
            "             Null Counts       Data Type\n",
            "Unit Name              0          object\n",
            "Meter Name             0          object\n",
            "Date                   0  datetime64[ns]\n",
            "End Reading            9         float64\n",
            "Total Nulls in Worksheet: 9\n",
            "Datetime columns: ['Date']\n",
            "\n",
            "Analyzing sheet: Gas Meters\n",
            "Shape: (9918, 4)\n",
            "            Null Counts       Data Type\n",
            "Unit Name             0          object\n",
            "Gas Meters            0          object\n",
            "Date                  0  datetime64[ns]\n",
            "Gas Volume            9         float64\n",
            "Total Nulls in Worksheet: 9\n",
            "Datetime columns: ['Date']\n"
          ]
        }
      ]
    },
    {
      "cell_type": "code",
      "source": [
        "# Loop through each sheet in Excel file\n",
        "for sheet_name, df in excel_data.items():\n",
        "    print(sheet_name)\n",
        "\n",
        "    # Check for datetime columns in each sheet\n",
        "    datetime_columns = df.select_dtypes(include=['datetime64[ns]']).columns\n",
        "\n",
        "    if len(datetime_columns) > 0:\n",
        "        # Display first and last datetime value for each datetime column\n",
        "        for datetime_column in datetime_columns:\n",
        "            first_datetime = df[datetime_column].iloc[0]\n",
        "            last_datetime = df[datetime_column].iloc[-1]\n",
        "            print(f\"Datetime column '{datetime_column}'\")\n",
        "            print(f\"First row: {first_datetime}\")\n",
        "            print(f\"Last row: {last_datetime}\")\n",
        "            print(\"-\" * 50)  # Separator\n",
        "\n"
      ],
      "metadata": {
        "colab": {
          "base_uri": "https://localhost:8080/"
        },
        "id": "FHO-Q2H9eEnd",
        "outputId": "a6f5e75d-fb68-4ffd-96b2-46fd99612632"
      },
      "execution_count": null,
      "outputs": [
        {
          "output_type": "stream",
          "name": "stdout",
          "text": [
            "SWP_Dashboard thru 2-28-2021\n",
            "Datetime column 'Date'\n",
            "First row: 2014-03-26 00:00:00\n",
            "Last row: 2021-02-28 00:00:00\n",
            "--------------------------------------------------\n",
            "Daily Prod_Inj & Pressures\n",
            "Datetime column 'Date'\n",
            "First row: 2019-06-01 00:00:00\n",
            "Last row: 2021-02-28 00:00:00\n",
            "--------------------------------------------------\n",
            "Monthly Prod_Inj\n",
            "Datetime column 'Start Date'\n",
            "First row: 2019-06-01 00:00:00\n",
            "Last row: 2021-02-01 00:00:00\n",
            "--------------------------------------------------\n",
            "Well Tests\n",
            "Datetime column 'Effective Date'\n",
            "First row: 2017-03-14 00:00:00\n",
            "Last row: 2021-03-01 00:00:00\n",
            "--------------------------------------------------\n",
            "Downtimes\n",
            "Datetime column 'First Day'\n",
            "First row: 2018-04-01 00:00:00\n",
            "Last row: 2021-03-08 00:00:00\n",
            "--------------------------------------------------\n",
            "Datetime column 'Last Day'\n",
            "First row: NaT\n",
            "Last row: NaT\n",
            "--------------------------------------------------\n",
            "Water Meters\n",
            "Datetime column 'Date'\n",
            "First row: 2018-04-01 00:00:00\n",
            "Last row: 2021-02-28 00:00:00\n",
            "--------------------------------------------------\n",
            "Gas Meters\n",
            "Datetime column 'Date'\n",
            "First row: 2018-04-01 00:00:00\n",
            "Last row: 2021-02-28 00:00:00\n",
            "--------------------------------------------------\n"
          ]
        }
      ]
    },
    {
      "cell_type": "code",
      "source": [
        "# Define the date range for filtering\n",
        "start_date = pd.to_datetime('2019-07-01')\n",
        "end_date = pd.to_datetime('2019-12-31')\n",
        "\n",
        "# Dictionary to store filtered data for each sheet\n",
        "filtered_data = {}\n",
        "\n",
        "# Loop through each sheet and apply filtering\n",
        "for sheet_name, df in excel_data.items():\n",
        "    print(sheet_name)\n",
        "\n",
        "    # Loop through all datetime columns and apply date filter\n",
        "    for datetime_column in df.select_dtypes(include=['datetime64[ns]']).columns:\n",
        "        # Filter the rows based on the date range\n",
        "        filtered_df = df[(df[datetime_column] >= start_date) & (df[datetime_column] <= end_date)]\n",
        "\n",
        "        # Save the filtered dataframe into the dictionary\n",
        "        filtered_data[sheet_name] = filtered_df\n",
        "\n",
        "        # Output the shape of the filtered data\n",
        "        print(f\"Rows after filtering '{datetime_column}': {filtered_df.shape[0]}\")\n",
        "        print(\"-\" * 50)  # Separator\n",
        "\n",
        "#filtered_data contains entire filtered DataFrame for each sheet"
      ],
      "metadata": {
        "colab": {
          "base_uri": "https://localhost:8080/"
        },
        "id": "HKbv8FmtiL5b",
        "outputId": "0b05edf8-d3c9-417a-d26e-d701352a9b53"
      },
      "execution_count": null,
      "outputs": [
        {
          "output_type": "stream",
          "name": "stdout",
          "text": [
            "SWP_Dashboard thru 2-28-2021\n",
            "Rows after filtering 'Date': 184\n",
            "--------------------------------------------------\n",
            "Daily Prod_Inj & Pressures\n",
            "Rows after filtering 'Date': 27416\n",
            "--------------------------------------------------\n",
            "Monthly Prod_Inj\n",
            "Rows after filtering 'Start Date': 895\n",
            "--------------------------------------------------\n",
            "Well Tests\n",
            "Rows after filtering 'Effective Date': 151\n",
            "--------------------------------------------------\n",
            "Downtimes\n",
            "Rows after filtering 'First Day': 146\n",
            "--------------------------------------------------\n",
            "Rows after filtering 'Last Day': 145\n",
            "--------------------------------------------------\n",
            "Water Meters\n",
            "Rows after filtering 'Date': 3060\n",
            "--------------------------------------------------\n",
            "Gas Meters\n",
            "Rows after filtering 'Date': 3615\n",
            "--------------------------------------------------\n"
          ]
        }
      ]
    },
    {
      "cell_type": "code",
      "source": [
        "# Loop through the filtered_data dictionary to output each sheet's columns and row numbers\n",
        "for sheet_name, filtered_df in filtered_data.items():\n",
        "    print(f\"Sheet: {sheet_name}\")\n",
        "    print(f\"Columns: {', '.join(filtered_df.columns)}\")  # List of columns\n",
        "    print(f\"Rows: {filtered_df.shape[0]}\")  # Number of rows\n",
        "    print(f\"Columns: {filtered_df.shape[1]}\")  # Number of columns\n",
        "    print(\"-\" * 50)  # Separator\n"
      ],
      "metadata": {
        "colab": {
          "base_uri": "https://localhost:8080/"
        },
        "id": "tuoYk6N-iLww",
        "outputId": "00e3737c-7c66-4b4c-9049-4f61fdae0084"
      },
      "execution_count": null,
      "outputs": [
        {
          "output_type": "stream",
          "name": "stdout",
          "text": [
            "Sheet: SWP_Dashboard thru 2-28-2021\n",
            "Columns: Date, Oil Production (bbls), Water Production (bbls), Water Injection (bbls), Arkalon CO2 (mcf), Borger CO2 (mcf), Recycle CO2 (mcf), Flare (mcf), External Sources (bbls), Total Injection (bbls)\n",
            "Rows: 184\n",
            "Columns: 10\n",
            "--------------------------------------------------\n",
            "Sheet: Daily Prod_Inj & Pressures\n",
            "Columns: Unit Name, API, District, Field, Battery, Date, Downtime, Operating Time, Allocated HCLiq, Allocated Gas, Allocated Water, Injection Well - Gas, Injection Well - Water, Tubing Pressure, Casing Pressure, Flowline Pressure, Choke Size, Fluid Level Depth, Gas-Free Fluid Level Above Pump, Fluid Level Above Pump, Bottomhole Pressure, Unnamed: 21, Unnamed: 22, Unnamed: 23\n",
            "Rows: 27416\n",
            "Columns: 24\n",
            "--------------------------------------------------\n",
            "Sheet: Monthly Prod_Inj\n",
            "Columns: Unit Name, API, District, Field, Battery, Start Date, Downtime, Operating Time, Allocated HCLiq, Allocated Gas, Allocated Water, Injection Well - Gas, Injection Well - Water\n",
            "Rows: 895\n",
            "Columns: 13\n",
            "--------------------------------------------------\n",
            "Sheet: Well Tests\n",
            "Columns: Unit Name, Type, Effective Date, Gas Volume Override, Recovered Lift Gas, Oil/Emulsion Volume Override, Water Volume Override, Gas Oil Ratio, Change in Oil/Emulsion Rate, % Change in Oil/Emulsion Rate, Change in Gas Rate, % Change in Gas Rate, Change in Water Rate, % Change in Water Rate, Change in GOR, % Change in GOR\n",
            "Rows: 151\n",
            "Columns: 16\n",
            "--------------------------------------------------\n",
            "Sheet: Downtimes\n",
            "Columns: Unit Name, Type of Downtime Entry, First Day, Downtime on First Day, Downtime Code 1, Last Day, Downtime on Last Day, Total Downtime, Unnamed: 8\n",
            "Rows: 145\n",
            "Columns: 9\n",
            "--------------------------------------------------\n",
            "Sheet: Water Meters\n",
            "Columns: Unit Name, Meter Name, Date, End Reading\n",
            "Rows: 3060\n",
            "Columns: 4\n",
            "--------------------------------------------------\n",
            "Sheet: Gas Meters\n",
            "Columns: Unit Name, Gas Meters, Date, Gas Volume\n",
            "Rows: 3615\n",
            "Columns: 4\n",
            "--------------------------------------------------\n"
          ]
        }
      ]
    },
    {
      "cell_type": "code",
      "source": [
        "total_rows = sum(filtered_df.shape[0] for filtered_df in filtered_data.values())\n",
        "total_columns = sum(filtered_df.shape[1] for filtered_df in filtered_data.values())\n",
        "print(total_rows)\n",
        "print(total_columns)"
      ],
      "metadata": {
        "colab": {
          "base_uri": "https://localhost:8080/"
        },
        "id": "UuyGiBdomC5q",
        "outputId": "78bf6d01-0731-4092-a66a-069f4c5247c5"
      },
      "execution_count": null,
      "outputs": [
        {
          "output_type": "stream",
          "name": "stdout",
          "text": [
            "35466\n",
            "80\n"
          ]
        }
      ]
    }
  ]
}